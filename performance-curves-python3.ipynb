{
 "cells": [
  {
   "cell_type": "markdown",
   "metadata": {},
   "source": [
    "# Performance curves\n",
    "\n",
    "In this notebook we will show how to compute performance curves (ROC and PR curves to be specific) given only positive and unlabeled data.\n",
    "\n",
    "We will show several results:\n",
    "- the true curves rank, assuming all labels are known\n",
    "- the curves that would be obtained by treating the unlabeled set as negative\n",
    "- bounds on the performance curves given a correct estimate of the fraction of positives in the unlabeled set\n",
    "- bounds on the performance curves given an interval estimate of the fraction of positives in the unlabeled set that is obtained by peeking at the labels of 300 unlabeled instances.\n",
    "\n",
    "This notebook is intended to enable you to easily change the configuration of experiments, so feel free to make modifications where you see fit to see their effect."
   ]
  },
  {
   "cell_type": "code",
   "execution_count": 1,
   "metadata": {},
   "outputs": [],
   "source": [
    "import random\n",
    "import operator as op\n",
    "import optunity.metrics\n",
    "import semisup_metrics as ss\n",
    "import numpy as np\n",
    "from matplotlib import pyplot as plt\n",
    "import pickle\n",
    "import csv\n",
    "import util\n",
    "%matplotlib inline"
   ]
  },
  {
   "cell_type": "markdown",
   "metadata": {},
   "source": [
    "# Create or load data set\n",
    "Generate simulated data or load the results of an experiment in an existing paper. Feel free to configure the code below as you please."
   ]
  },
  {
   "cell_type": "code",
   "execution_count": 2,
   "metadata": {},
   "outputs": [],
   "source": [
    "# fraction of positives/negatives that are known\n",
    "# known_neg_frac == 0 implies PU learning\n",
    "known_pos_frac = 0.1\n",
    "known_neg_frac = 0.0\n",
    "\n",
    "# load results from the paper?\n",
    "# http://www.sciencedirect.com/science/article/pii/S0925231215001174\n",
    "use_paper_data = True\n",
    "dataset = 'covtype'\n",
    "#dataset = 'sensit'\n",
    "\n",
    "# generate a simulated data set (requires use_paper_data = False)\n",
    "# number of instances per class\n",
    "# the number of unlabeled instances depends on these settings + known_X_frac\n",
    "\n",
    "# if we use a lot of data, computation times are a little long\n",
    "# but the resulting estimates become excellent, which corroborates consistency\n",
    "# num_pos = 20000\n",
    "# num_neg = 100000 \n",
    "\n",
    "# if you simulate a smaller data set you can see some effects better\n",
    "# but estimated bounds will be much wider\n",
    "# because the ECDF confidence interval becomes large\n",
    "num_pos = 2000  \n",
    "num_neg = 10000 \n",
    "distid = 2  # can be 1, 2 or 3, these correspond to certain curves in ROC space\n",
    "\n",
    "# generate rankings and label vectors and compute corresponding beta\n",
    "# beta is based on known_pos_frac, known_neg_frac and the number of pos and negs\n",
    "# labels is a list of {True, False, None}, where None indicates unlabeled\n",
    "# true_labels is a list of {True, False}\n",
    "if use_paper_data:\n",
    "    labels, true_labels, decision_values, beta = util.load_dataset(dataset, \n",
    "                                                                   known_pos_frac,\n",
    "                                                                   known_neg_frac)\n",
    "else:\n",
    "    labels, true_labels, decision_values, beta = util.simulate_data(distid, num_pos, num_neg,\n",
    "                                                                    known_pos_frac,\n",
    "                                                                    known_neg_frac)"
   ]
  },
  {
   "cell_type": "markdown",
   "metadata": {},
   "source": [
    "## Data set characteristics"
   ]
  },
  {
   "cell_type": "markdown",
   "metadata": {},
   "source": [
    "Known parameters:"
   ]
  },
  {
   "cell_type": "code",
   "execution_count": 3,
   "metadata": {},
   "outputs": [
    {
     "name": "stdout",
     "output_type": "stream",
     "text": [
      "total number of instances: \t 40000\n",
      "number of known positives: \t 2000\n",
      "number of known negatives: \t 0\n",
      "number of unlabeled instances: \t 38000\n"
     ]
    }
   ],
   "source": [
    "print('total number of instances: \\t %d' % len(labels))\n",
    "print('number of known positives: \\t %d' % len(list(filter(lambda x: x == True, labels))))\n",
    "print('number of known negatives: \\t %d' % len(list(filter(lambda x: x == False, labels))))\n",
    "print('number of unlabeled instances: \\t %d' % len(list(filter(lambda x: x == None, labels))))"
   ]
  },
  {
   "cell_type": "markdown",
   "metadata": {},
   "source": [
    "Unknown parameters:"
   ]
  },
  {
   "cell_type": "code",
   "execution_count": 4,
   "metadata": {},
   "outputs": [
    {
     "name": "stdout",
     "output_type": "stream",
     "text": [
      "number of latent positives: \t 18000\n",
      "number of latent negatives: \t 20000\n",
      "beta: \t 0.4737\n"
     ]
    }
   ],
   "source": [
    "print('number of latent positives: \\t %d' % len(list(filter(lambda x: x[0] == None and x[1] == True, zip(labels, true_labels)))))\n",
    "print('number of latent negatives: \\t %d' % len(list(filter(lambda x: x[0] == None and x[1] == False, zip(labels, true_labels)))))\n",
    "print('beta: \\t %1.4f' % beta)"
   ]
  },
  {
   "cell_type": "markdown",
   "metadata": {},
   "source": [
    "# Estimate beta\n",
    "\n",
    "This step can be avoided if sufficient domain knowledge exist to guesstimate beta, or when using data-driven approaches as mentioned in the paper. \n",
    "\n",
    "In this notebook we use a point estimate you can provide (\\hat{beta} in the paper). Change this parameter to see its effect in the figures later on. Additionally, we will perform Bayesian inference on beta by peeking at the true label of some unlabeled instances, as described in Section 6.3."
   ]
  },
  {
   "cell_type": "code",
   "execution_count": 5,
   "metadata": {},
   "outputs": [
    {
     "name": "stdout",
     "output_type": "stream",
     "text": [
      "true value of beta\t0.4737\n",
      "point estimate of beta\t0.4737\n"
     ]
    }
   ],
   "source": [
    "betahat = beta\n",
    "\n",
    "print('true value of beta\\t%1.4f' % beta)\n",
    "print('point estimate of beta\\t%1.4f' % betahat)"
   ]
  },
  {
   "cell_type": "markdown",
   "metadata": {},
   "source": [
    "Alternatively, estimate beta by peeking at the latent labels of a few unlabeled instances. This corresponds to Section 6.3 in the manuscript."
   ]
  },
  {
   "cell_type": "code",
   "execution_count": 6,
   "metadata": {},
   "outputs": [
    {
     "name": "stdout",
     "output_type": "stream",
     "text": [
      "Credible interval via PPF: 0.3947 <= beta <= 0.5066.\n",
      "Width of credible interval based on PPF: 0.11196.\n",
      "\n",
      "Credible interval via HPD: 0.3947 <= beta <= 0.5066.\n",
      "Width of credible interval based on HPD: 0.11196.\n"
     ]
    }
   ],
   "source": [
    "# determine the latent labels (requires manual labeling in practice)\n",
    "latent_labels = [true_label for label, true_label in zip(labels, true_labels) if label is None]\n",
    "\n",
    "# we will peek at 300 labels to estimate beta based on a 95% credible interval\n",
    "num_peeks = 300\n",
    "credible_interval_length = 0.95\n",
    "\n",
    "# peek at the true label of a subset of unlabeled instances\n",
    "unlabeled_ranks = [idx for idx, lab in enumerate(labels) if lab == None]\n",
    "sample = np.random.choice(unlabeled_ranks, num_peeks, replace=False)\n",
    "sample_labels = [true_labels[i] for i in sample]\n",
    "npos = sum(sample_labels)\n",
    "nneg = sample.size - npos\n",
    "\n",
    "# compute interval based on the percentile function of the posterior\n",
    "beta_interval_ppf = ss.estimate_beta_by_labeling(npos, nneg, credible_interval_length, HPD=False)\n",
    "print('Credible interval via PPF: %1.4f <= beta <= %1.4f.' % (beta_interval_ppf.lower, beta_interval_ppf.upper))\n",
    "print(\"Width of credible interval based on PPF: %1.5f.\\n\" % (beta_interval_ppf.upper - beta_interval_ppf.lower))\n",
    "\n",
    "# compute interval based on the highest posterior density region (shorter)\n",
    "beta_interval_hpd = ss.estimate_beta_by_labeling(npos, nneg, credible_interval_length, HPD=True)\n",
    "print('Credible interval via HPD: %1.4f <= beta <= %1.4f.' % (beta_interval_hpd.lower, beta_interval_hpd.upper))\n",
    "print(\"Width of credible interval based on HPD: %1.5f.\" % (beta_interval_hpd.upper - beta_interval_hpd.lower))\n",
    "\n",
    "# continue with beta based on HPD, because this is the shortest credible interval\n",
    "# note that the coverage of both intervals is equal to credible_interval_length\n",
    "beta_interval = beta_interval_hpd"
   ]
  },
  {
   "cell_type": "markdown",
   "metadata": {},
   "source": [
    "# 1. Compute cumulative rank distribution of known positives"
   ]
  },
  {
   "cell_type": "code",
   "execution_count": 7,
   "metadata": {},
   "outputs": [],
   "source": [
    "# sort the labels in descending order of corresponding decision values\n",
    "sort_labels, sort_dv, sort_true_labels = zip(*sorted(zip(labels, decision_values, true_labels),\n",
    "                                                     key=op.itemgetter(1), reverse=True))\n",
    "\n",
    "# ranks of the known positives\n",
    "known_pos_ranks = [idx for idx, lab in enumerate(sort_labels) if lab]\n",
    "\n",
    "# compute rank ECDF of known positives\n",
    "known_pos_ecdf = ss.compute_ecdf_curve(known_pos_ranks)"
   ]
  },
  {
   "cell_type": "markdown",
   "metadata": {},
   "source": [
    "Next, we determine a confidence interval on the rank CDF of known positives. We can do this in several ways, our code provides a bootstrap approach and a method based on the Dvoretzky–Kiefer–Wolfowitz (DKW) inequality. Feel free to experiment."
   ]
  },
  {
   "cell_type": "code",
   "execution_count": 8,
   "metadata": {},
   "outputs": [],
   "source": [
    "ci_width = 0.95      # width of the confidence band on ECDF to be used\n",
    "use_bootstrap = True # use bootstrap to compute confidence band\n",
    "nboot = 2000         # number of bootstrap iterations to use, not used if use_bootstrap = False\n",
    "\n",
    "if use_bootstrap:\n",
    "    cdf_bounds = ss.bootstrap_ecdf_bounds(labels, decision_values, nboot=nboot, ci_width=ci_width)\n",
    "else:\n",
    "    cdf_bounds = ss.dkw_bounds(labels, decision_values, ci_width=ci_width)"
   ]
  },
  {
   "cell_type": "markdown",
   "metadata": {},
   "source": [
    "For reference, we will also compute the rank ECDF of latent positives. In practical applications this is impossible, as the latent positives are by definition not known."
   ]
  },
  {
   "cell_type": "code",
   "execution_count": 9,
   "metadata": {},
   "outputs": [],
   "source": [
    "latent_positives = map(lambda x, y: x == True and y == None, true_labels, labels)\n",
    "sort_lps, _ = zip(*sorted(zip(latent_positives, decision_values),\n",
    "                          key=op.itemgetter(1), reverse=True))\n",
    "latent_pos_ranks = [idx for idx, lab in enumerate(sort_lps) if lab]\n",
    "latent_pos_ecdf = ss.compute_ecdf_curve(latent_pos_ranks)"
   ]
  },
  {
   "cell_type": "markdown",
   "metadata": {},
   "source": [
    "Plot the rank CDFs of known and latent positives. It may occur that the rank CDF of latent positives is not within the confidence interval of known positives, in which case the corresponding bounds on performance will not be strict."
   ]
  },
  {
   "cell_type": "code",
   "execution_count": 10,
   "metadata": {},
   "outputs": [
    {
     "data": {
      "image/png": "[encoded data removed]",
      "text/plain": [
       "<Figure size 432x288 with 1 Axes>"
      ]
     },
     "metadata": {
      "needs_background": "light"
     },
     "output_type": "display_data"
    }
   ],
   "source": [
    "# convenience plot functions\n",
    "def plot_proxy():\n",
    "    p = plt.Rectangle((0, 0), 0, 0, color='blue', alpha=0.4)\n",
    "    ax = plt.gca()\n",
    "    ax.add_patch(p)\n",
    "    return p\n",
    "\n",
    "def fix_plot_shape(fig):\n",
    "    ax = fig.add_subplot(111, aspect='equal')\n",
    "    axes = fig.gca()\n",
    "    axes.set_xlim([0,1])\n",
    "    axes.set_ylim([0,1])\n",
    "\n",
    "xs = list(range(len(labels)))\n",
    "plt.figure(1)\n",
    "plt.fill_between(xs, list(map(cdf_bounds.lower, xs)), list(map(cdf_bounds.upper, xs)), \n",
    "                 color='blue', alpha=0.4)\n",
    "plt.plot(*zip(*known_pos_ecdf), color='black', linestyle='dashed', linewidth=2)\n",
    "plt.plot(*zip(*latent_pos_ecdf), color='black', linewidth=2)\n",
    "plot_proxy()\n",
    "plt.xlabel('rank')\n",
    "plt.ylabel('TPR')\n",
    "plt.legend(['known positives', 'latent positives', 'expected region'], loc=4)\n",
    "plt.title('Rank CDF')\n",
    "plt.show()"
   ]
  },
  {
   "cell_type": "markdown",
   "metadata": {},
   "source": [
    "# 2. Compute contingency tables for each rank\n",
    "These tables are computed based on estimate of beta and the rank CDF of known positives. We will show the results for betahat and a the Bayesian credible interval on beta."
   ]
  },
  {
   "cell_type": "code",
   "execution_count": 11,
   "metadata": {},
   "outputs": [],
   "source": [
    "# first, compute contingency tables based on the point estimate betahat\n",
    "# presorted = True is a computational shortcut\n",
    "# we can use this because we already sorted by decision values earlier\n",
    "tables_point = ss.compute_contingency_tables(labels=sort_labels, decision_values=sort_dv,\n",
    "                                             reference_lb=cdf_bounds.lower,\n",
    "                                             reference_ub=cdf_bounds.upper,\n",
    "                                             beta=betahat, presorted=True)\n",
    "\n",
    "# second, compute contingency tables based on the credible interval \n",
    "# we start with a convenience function for readability\n",
    "compute_tables = lambda beta: ss.compute_contingency_tables(labels=sort_labels, decision_values=sort_dv,\n",
    "                                                   reference_lb=cdf_bounds.lower,\n",
    "                                                   reference_ub=cdf_bounds.upper,\n",
    "                                                   beta=beta, \n",
    "                                                   presorted=True)\n",
    "\n",
    "# tables based on lower bound on beta, only lower bound tables are to be used\n",
    "tables_interval_lb = compute_tables(beta_interval.lower)\n",
    "# tables based on upper bound on beta, only upper bound tables are to be used\n",
    "tables_interval_ub = compute_tables(beta_interval.upper)\n",
    "# merge into a single variable\n",
    "# ss._lb_ub is a collections.namedtuple with fields 'lower' and 'upper'\n",
    "tables_interval = ss._lb_ub(lower=tables_interval_lb.lower, upper=tables_interval_ub.upper)"
   ]
  },
  {
   "cell_type": "markdown",
   "metadata": {},
   "source": [
    "# 3. Compute and plot performance estimates based on the contingency tables"
   ]
  },
  {
   "cell_type": "markdown",
   "metadata": {},
   "source": [
    "## 3.1 ROC curves\n",
    "\n",
    "Start off with the easy stuff: the true ROC curve (unknown in practice), and the curve we obtain by assuming beta=0."
   ]
  },
  {
   "cell_type": "code",
   "execution_count": 12,
   "metadata": {},
   "outputs": [],
   "source": [
    "# compute the true ROC curve (we use Optunity's ROC function)\n",
    "_, roc_true = optunity.metrics.roc_auc(true_labels, decision_values, return_curve=True)\n",
    "# compute the ROC curve that would be obtained by treating all unlabeled as negative\n",
    "_, roc_neg = optunity.metrics.roc_auc(labels, decision_values, return_curve=True)"
   ]
  },
  {
   "cell_type": "markdown",
   "metadata": {},
   "source": [
    "Compute bounds based on the proposed method."
   ]
  },
  {
   "cell_type": "code",
   "execution_count": 13,
   "metadata": {},
   "outputs": [],
   "source": [
    "# we can directly use the contingency tables we already computed anyways\n",
    "roc_bounds = lambda tables: ss._lb_ub(lower=ss.roc_from_cts(tables.lower),\n",
    "                                      upper=ss.roc_from_cts(tables.upper))\n",
    "roc_bounds_point = roc_bounds(tables_point)\n",
    "roc_bounds_interval = roc_bounds(tables_interval)\n",
    "\n",
    "# an alternative without all these intermediate steps would be:\n",
    "# roc_bounds_point = ss.roc_bounds(labels, decision_values, beta=betahat)"
   ]
  },
  {
   "cell_type": "markdown",
   "metadata": {},
   "source": [
    "Finally, what if we would compute bounds on the labeled instances and the ones we peeked at to estimate beta? The indices of the random sample of unlabeled data we peeked at is in sample."
   ]
  },
  {
   "cell_type": "code",
   "execution_count": 14,
   "metadata": {},
   "outputs": [
    {
     "name": "stdout",
     "output_type": "stream",
     "text": [
      "total number of known positives after peeking:\t2135\n",
      "total number of known negatives after peeking:\t165\n"
     ]
    },
    {
     "name": "stderr",
     "output_type": "stream",
     "text": [
      "C:\\Users\\hdemeule\\AppData\\Local\\Continuum\\anaconda3\\lib\\site-packages\\optunity\\metrics.py:211: RuntimeWarning: invalid value encountered in true_divide\n",
      "  return float(FP) / (FP + TN)\n"
     ]
    }
   ],
   "source": [
    "# labels and decision values of peeked instances in sample_labels and sample_decision_values\n",
    "sample_decision_values = [decision_values[i] for i in sample]\n",
    "\n",
    "# labels and decision values of known instances before peeking\n",
    "filtered = filter(lambda x: x[0] is not None, zip(labels, decision_values))\n",
    "apriori_known_labels = list(map(op.itemgetter(0), filtered))\n",
    "apriori_known_dvs = list(map(op.itemgetter(1), filtered))\n",
    "\n",
    "# all known labels and decision values after peeking\n",
    "all_known_labels = apriori_known_labels + sample_labels\n",
    "all_known_dvs = apriori_known_dvs + sample_decision_values\n",
    "\n",
    "# data statistics\n",
    "print('total number of known positives after peeking:\\t%d' % sum(all_known_labels))\n",
    "print('total number of known negatives after peeking:\\t%d' % (len(all_known_labels) - sum(all_known_labels)))\n",
    "\n",
    "# compute the resulting ROC curve\n",
    "_, roc_peek = optunity.metrics.roc_auc(all_known_labels, all_known_dvs, return_curve=True)"
   ]
  },
  {
   "cell_type": "code",
   "execution_count": 19,
   "metadata": {},
   "outputs": [
    {
     "data": {
      "text/plain": [
       "[(nan, 0.0),\n",
       " (nan, 0.0033333333333333335),\n",
       " (nan, 0.01),\n",
       " (nan, 0.016666666666666666),\n",
       " (nan, 0.023333333333333334),\n",
       " (nan, 0.03666666666666667),\n",
       " (nan, 0.043333333333333335),\n",
       " (nan, 0.06),\n",
       " (nan, 0.07666666666666666),\n",
       " (nan, 0.09333333333333334),\n",
       " (nan, 0.10333333333333333),\n",
       " (nan, 0.11666666666666667),\n",
       " (nan, 0.13666666666666666),\n",
       " (nan, 0.15),\n",
       " (nan, 0.17),\n",
       " (nan, 0.18666666666666668),\n",
       " (nan, 0.20333333333333334),\n",
       " (nan, 0.22333333333333333),\n",
       " (nan, 0.23666666666666666),\n",
       " (nan, 0.26),\n",
       " (nan, 0.27),\n",
       " (nan, 0.27666666666666667),\n",
       " (nan, 0.2866666666666667),\n",
       " (nan, 0.30666666666666664),\n",
       " (nan, 0.3333333333333333),\n",
       " (nan, 0.35333333333333333),\n",
       " (nan, 0.36666666666666664),\n",
       " (nan, 0.38333333333333336),\n",
       " (nan, 0.4),\n",
       " (nan, 0.4166666666666667),\n",
       " (nan, 0.43666666666666665),\n",
       " (nan, 0.47),\n",
       " (nan, 0.5133333333333333),\n",
       " (nan, 0.5333333333333333),\n",
       " (nan, 0.56),\n",
       " (nan, 0.5933333333333334),\n",
       " (nan, 0.6333333333333333),\n",
       " (nan, 0.6733333333333333),\n",
       " (nan, 0.6966666666666667),\n",
       " (nan, 0.7433333333333333),\n",
       " (nan, 0.7833333333333333),\n",
       " (nan, 0.8333333333333334),\n",
       " (nan, 0.8533333333333334),\n",
       " (nan, 0.8633333333333333),\n",
       " (nan, 0.8833333333333333),\n",
       " (nan, 0.9266666666666666),\n",
       " (nan, 0.96),\n",
       " (nan, 0.98),\n",
       " (nan, 0.9833333333333333),\n",
       " (nan, 0.9866666666666667),\n",
       " (nan, 0.99),\n",
       " (nan, 0.9933333333333333),\n",
       " (nan, 0.9966666666666667),\n",
       " (nan, 1.0)]"
      ]
     },
     "execution_count": 19,
     "metadata": {},
     "output_type": "execute_result"
    }
   ],
   "source": [
    "roc_peek"
   ]
  },
  {
   "cell_type": "markdown",
   "metadata": {},
   "source": [
    "Plot the resulting curves"
   ]
  },
  {
   "cell_type": "code",
   "execution_count": 15,
   "metadata": {},
   "outputs": [
    {
     "name": "stderr",
     "output_type": "stream",
     "text": [
      "C:\\Users\\hdemeule\\AppData\\Local\\Continuum\\anaconda3\\lib\\site-packages\\matplotlib\\patches.py:75: UserWarning: Setting the 'color' property will overridethe edgecolor or facecolor properties.\n",
      "  warnings.warn(\"Setting the 'color' property will override\"\n"
     ]
    },
    {
     "data": {
      "image/png": "[encoded data removed]",
      "text/plain": [
       "<Figure size 432x288 with 1 Axes>"
      ]
     },
     "metadata": {
      "needs_background": "light"
     },
     "output_type": "display_data"
    }
   ],
   "source": [
    "# convenience function for plot legend\n",
    "def plot_proxy2():\n",
    "    p = plt.Rectangle((0, 0), 0, 0, color='none', \n",
    "                      edgecolor='red', hatch='xxx', alpha=0.8)\n",
    "    ax = plt.gca()\n",
    "    ax.add_patch(p)\n",
    "    return p\n",
    "\n",
    "xs = [float(x) / 100 for x in range(101)]\n",
    "roc_point_up = ss.zoh(*zip(*roc_bounds_point.upper))\n",
    "roc_point_lo = ss.zoh(*zip(*roc_bounds_point.lower))\n",
    "roc_interval_up = ss.zoh(*zip(*roc_bounds_interval.upper))\n",
    "roc_interval_lo = ss.zoh(*zip(*roc_bounds_interval.lower))\n",
    "fig = plt.figure(2)\n",
    "fix_plot_shape(fig)\n",
    "plt.plot(*zip(*roc_true), color='black', linewidth=2)\n",
    "plt.fill_between(xs, list(map(roc_point_lo, xs)), list(map(roc_point_up, xs)), color='blue', alpha=0.4)\n",
    "plt.fill_between(xs, list(map(roc_interval_lo, xs)), list(map(roc_interval_up, xs)), \n",
    "                 color='none', edgecolor='red', alpha=0.8, hatch='xxx')\n",
    "plt.plot(*zip(*roc_neg), color='black', linestyle='dashed')\n",
    "plt.plot(*zip(*roc_peek), color='red', linestyle='solid', linewidth=2)\n",
    "plot_proxy()\n",
    "plot_proxy2()\n",
    "plt.xlabel('FPR')\n",
    "plt.ylabel('TPR')\n",
    "plt.legend(['true curve', 'beta=0', 'after labeling',\n",
    "            'expected region via betahat', 'expected region via interval'],\n",
    "           loc=\"upper left\", bbox_to_anchor=(1,1))\n",
    "plt.title('Receiver Operating Characteristic curve')\n",
    "plt.show()"
   ]
  },
  {
   "cell_type": "markdown",
   "metadata": {},
   "source": [
    "Including the resulting ROC curve based on the peeked data."
   ]
  },
  {
   "cell_type": "markdown",
   "metadata": {},
   "source": [
    "## 3.2 PR curves"
   ]
  },
  {
   "cell_type": "code",
   "execution_count": 16,
   "metadata": {},
   "outputs": [],
   "source": [
    "# we can directly use the contingency tables we already computed anyways\n",
    "pr_bounds = lambda tables: ss._lb_ub(lower=ss.pr_from_cts(tables.lower),\n",
    "                                      upper=ss.pr_from_cts(tables.upper))\n",
    "pr_bounds_point = pr_bounds(tables_point)\n",
    "pr_bounds_interval = pr_bounds(tables_interval)\n",
    "\n",
    "# an alternative without all these intermediate steps would be:\n",
    "# roc_bounds_point = ss.roc_bounds(labels, decision_values, beta=betahat)\n",
    "\n",
    "# compute the true ROC curve (we use Optunity's ROC function)\n",
    "_, pr_true = optunity.metrics.pr_auc(true_labels, decision_values, return_curve=True)\n",
    "# compute the ROC curve that would be obtained by treating all unlabeled as negative\n",
    "_, pr_neg = optunity.metrics.pr_auc(labels, decision_values, return_curve=True)"
   ]
  },
  {
   "cell_type": "code",
   "execution_count": 17,
   "metadata": {},
   "outputs": [
    {
     "name": "stdout",
     "output_type": "stream",
     "text": [
      "Normalizing weight for negatives: 15.815\n"
     ]
    }
   ],
   "source": [
    "# PR curve based on all known labels after labeling 300 unlabeled instances\n",
    "# we compute this by constructing the PR curve with weighted instances\n",
    "# the weighting is used to fix the empirical class contributions to our estimate of beta\n",
    "\n",
    "# compute the weight\n",
    "npos_prior = len(list(filter(lambda x: x == True, labels)))\n",
    "neg_weight = float(npos + npos_prior) / npos\n",
    "print(\"Normalizing weight for negatives: %1.3f\" % neg_weight)\n",
    "\n",
    "all_known_labels, all_known_dvs\n",
    "all_known_labels_sorted, _ = zip(*sorted(zip(all_known_labels, all_known_dvs),\n",
    "                                         key=op.itemgetter(1), reverse=True))\n",
    "known_after_labeling_cts = ss.compute_labeled_cts(all_known_labels_sorted)\n",
    "\n",
    "# weigh contingency tables\n",
    "weighted_cts = map(lambda ct: ss.ContingencyTable(TP=ct.TP, FN=ct.FN,\n",
    "                                               FP=ct.FP * neg_weight,\n",
    "                                               TN=ct.TN * neg_weight),\n",
    "                   known_after_labeling_cts)\n",
    "pr_after_labeling = ss.pr_from_cts(weighted_cts)"
   ]
  },
  {
   "cell_type": "code",
   "execution_count": 18,
   "metadata": {},
   "outputs": [
    {
     "data": {
      "image/png": "[encoded data removed]",
      "text/plain": [
       "<Figure size 432x288 with 1 Axes>"
      ]
     },
     "metadata": {
      "needs_background": "light"
     },
     "output_type": "display_data"
    }
   ],
   "source": [
    "pr_point_up = ss.zoh(*zip(*pr_bounds_point.upper))\n",
    "pr_point_lo = ss.zoh(*zip(*pr_bounds_point.lower))\n",
    "pr_interval_up = ss.zoh(*zip(*pr_bounds_interval.upper))\n",
    "pr_interval_lo = ss.zoh(*zip(*pr_bounds_interval.lower))\n",
    "fig = plt.figure(3)\n",
    "fix_plot_shape(fig)\n",
    "plt.plot(*zip(*pr_true), color='black', linewidth=2)\n",
    "plt.plot(*zip(*pr_neg), color='black', linestyle='dashed')\n",
    "plt.fill_between(xs, list(map(pr_point_lo, xs)), list(map(pr_point_up, xs)), color='blue', alpha=0.4)\n",
    "plt.fill_between(xs, list(map(pr_interval_lo, xs)), list(map(pr_interval_up, xs)), \n",
    "                 color='none', edgecolor='red', alpha=0.8, hatch='xxx')\n",
    "plt.plot(*zip(*pr_after_labeling), color='red', linestyle='solid', linewidth=2)\n",
    "plot_proxy()\n",
    "plot_proxy2()\n",
    "plt.xlabel('Recall')\n",
    "plt.ylabel('Precision')\n",
    "plt.legend(['true curve', 'beta=0', 'after labeling',\n",
    "            'expected region via betahat', 'expected region via interval'], \n",
    "           loc=\"upper left\", bbox_to_anchor=(1,1))\n",
    "plt.title('Precision-Recall curve')\n",
    "plt.show()"
   ]
  }
 ],
 "metadata": {
  "kernelspec": {
   "display_name": "Python 3",
   "language": "python",
   "name": "python3"
  },
  "language_info": {
   "codemirror_mode": {
    "name": "ipython",
    "version": 3
   },
   "file_extension": ".py",
   "mimetype": "text/x-python",
   "name": "python",
   "nbconvert_exporter": "python",
   "pygments_lexer": "ipython3",
   "version": "3.7.1"
  }
 },
 "nbformat": 4,
 "nbformat_minor": 1
}
