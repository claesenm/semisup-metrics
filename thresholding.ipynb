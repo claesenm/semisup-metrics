{
 "metadata": {
  "name": "",
  "signature": "sha256:7212f7513c1f4e905f5b1a441777afcadaa2d0057d9cebb8f2c5dba9095bf73c"
 },
 "nbformat": 3,
 "nbformat_minor": 0,
 "worksheets": [
  {
   "cells": [
    {
     "cell_type": "markdown",
     "metadata": {},
     "source": [
      "# Thresholding\n",
      "\n",
      "In this notebook we will show how to determine the an optimal cut-off rank by maximizing the commonly used $F_1$-score.\n",
      "\n",
      "We will show several results:\n",
      "- the true optimal rank, assuming all labels are known\n",
      "- the optimal rank that would be obtained by treating the unlabeled set as negative\n",
      "- the optimal rank based on estimated lower and upper bounds on contingency tables via our proposed method\n",
      "\n",
      "This notebook is intended to enable you to easily change the configuration of experiments, so feel free to make modifications where you see fit to see their effect."
     ]
    },
    {
     "cell_type": "code",
     "collapsed": false,
     "input": [
      "import random\n",
      "import operator as op\n",
      "import semisup_metrics as ss\n",
      "import numpy as np\n",
      "from matplotlib import pyplot as plt\n",
      "import pickle\n",
      "import csv\n",
      "import util\n",
      "%matplotlib inline"
     ],
     "language": "python",
     "metadata": {},
     "outputs": [],
     "prompt_number": 1
    },
    {
     "cell_type": "markdown",
     "metadata": {},
     "source": [
      "# Create or load data set\n",
      "Generate simulated data or load the results of an experiment in an existing paper. Feel free to configure the code below as you please."
     ]
    },
    {
     "cell_type": "code",
     "collapsed": false,
     "input": [
      "# fraction of positives/negatives that are known\n",
      "# known_neg_frac == 0 implies PU learning\n",
      "known_pos_frac = 0.1\n",
      "known_neg_frac = 0.0\n",
      "\n",
      "# in the manuscript we only used simulated data sets (see below)\n",
      "# but you can run a similar experiment on rankings resulting from\n",
      "# a real-world PU learning application as reported in the following paper\n",
      "# http://www.sciencedirect.com/science/article/pii/S0925231215001174\n",
      "use_paper_data = False\n",
      "dataset = 'covtype'\n",
      "#dataset = 'sensit'\n",
      "\n",
      "# generate a simulated data set (requires use_paper_data = False)\n",
      "# number of instances per class\n",
      "# the number of unlabeled instances depends on these settings + known_X_frac\n",
      "\n",
      "# if we use a lot of data, computation times are a little long\n",
      "# but the resulting estimates become excellent, which corroborates consistency\n",
      "num_pos = 20000\n",
      "num_neg = 100000 \n",
      "\n",
      "# if you simulate a smaller data set you can see some effects better\n",
      "# but estimated bounds will be much wider\n",
      "# because the ECDF confidence interval becomes large\n",
      "num_pos = 2000  \n",
      "num_neg = 10000 \n",
      "distid = 3  # can be 1, 2 or 3, these correspond to certain curves in ROC space\n",
      "\n",
      "# generate rankings and label vectors and compute corresponding beta\n",
      "# beta is based on known_pos_frac, known_neg_frac and the number of pos and negs\n",
      "# labels is a list of {True, False, None}, where None indicates unlabeled\n",
      "# true_labels is a list of {True, False}\n",
      "if use_paper_data:\n",
      "    labels, true_labels, decision_values, beta = util.load_dataset(dataset, \n",
      "                                                                   known_pos_frac,\n",
      "                                                                   known_neg_frac)\n",
      "else:\n",
      "    labels, true_labels, decision_values, beta = util.simulate_data(distid, num_pos, num_neg,\n",
      "                                                                    known_pos_frac,\n",
      "                                                                    known_neg_frac)"
     ],
     "language": "python",
     "metadata": {},
     "outputs": [],
     "prompt_number": 2
    },
    {
     "cell_type": "markdown",
     "metadata": {},
     "source": [
      "## Data set characteristics"
     ]
    },
    {
     "cell_type": "markdown",
     "metadata": {},
     "source": [
      "Known parameters:"
     ]
    },
    {
     "cell_type": "code",
     "collapsed": false,
     "input": [
      "print('total number of instances: \\t %d' % len(labels))\n",
      "print('number of known positives: \\t %d' % len(filter(lambda x: x == True, labels)))\n",
      "print('number of known negatives: \\t %d' % len(filter(lambda x: x == False, labels)))\n",
      "print('number of unlabeled instances: \\t %d' % len(filter(lambda x: x == None, labels)))"
     ],
     "language": "python",
     "metadata": {},
     "outputs": [
      {
       "output_type": "stream",
       "stream": "stdout",
       "text": [
        "total number of instances: \t 12000\n",
        "number of known positives: \t 200\n",
        "number of known negatives: \t 0\n",
        "number of unlabeled instances: \t 11800\n"
       ]
      }
     ],
     "prompt_number": 3
    },
    {
     "cell_type": "markdown",
     "metadata": {},
     "source": [
      "Unknown parameters:"
     ]
    },
    {
     "cell_type": "code",
     "collapsed": false,
     "input": [
      "print('number of latent positives: \\t %d' % len(filter(lambda x: x[0] == None and x[1] == True, zip(labels, true_labels))))\n",
      "print('number of latent negatives: \\t %d' % len(filter(lambda x: x[0] == None and x[1] == False, zip(labels, true_labels))))\n",
      "print('beta: \\t %1.4f' % beta)"
     ],
     "language": "python",
     "metadata": {},
     "outputs": [
      {
       "output_type": "stream",
       "stream": "stdout",
       "text": [
        "number of latent positives: \t 1800\n",
        "number of latent negatives: \t 10000\n",
        "beta: \t 0.1525\n"
       ]
      }
     ],
     "prompt_number": 4
    },
    {
     "cell_type": "markdown",
     "metadata": {},
     "source": [
      "# Estimate beta\n",
      "\n",
      "In this notebook we will not go into the issues surrounding beta (cfr. the performance-estimation notebook). We will compute the results on a point estimate of beta (feel free to add noise)."
     ]
    },
    {
     "cell_type": "code",
     "collapsed": false,
     "input": [
      "betahat = beta\n",
      "\n",
      "print('true value of beta\\t%1.4f' % beta)\n",
      "print('point estimate of beta\\t%1.4f' % betahat)"
     ],
     "language": "python",
     "metadata": {},
     "outputs": [
      {
       "output_type": "stream",
       "stream": "stdout",
       "text": [
        "true value of beta\t0.1525\n",
        "point estimate of beta\t0.1525\n"
       ]
      }
     ],
     "prompt_number": 5
    },
    {
     "cell_type": "markdown",
     "metadata": {},
     "source": [
      "Alternatively, estimate beta by peeking at the latent labels of a few unlabeled instances. This corresponds to Section 6.3 in the manuscript."
     ]
    },
    {
     "cell_type": "markdown",
     "metadata": {},
     "source": [
      "# 1. Compute cumulative rank distribution of known positives"
     ]
    },
    {
     "cell_type": "markdown",
     "metadata": {},
     "source": [
      "Next, we determine a confidence interval on the rank CDF of known positives. We can do this in several ways, our code provides a bootstrap approach and a method based on the Dvoretzky\u2013Kiefer\u2013Wolfowitz (DKW) inequality. Feel free to experiment."
     ]
    },
    {
     "cell_type": "code",
     "collapsed": false,
     "input": [
      "# sort the labels in descending order of corresponding decision values\n",
      "# subsequent calculations are more efficient on sorted data\n",
      "# otherwise it will be sorted several times in the library functions\n",
      "sort_labels, sort_dv, sort_true_labels = zip(*sorted(zip(labels, decision_values, true_labels),\n",
      "                                                     key=op.itemgetter(1), reverse=True))\n",
      "\n",
      "ci_width = 0.95      # width of the confidence band on ECDF to be used\n",
      "use_bootstrap = True # use bootstrap to compute confidence band\n",
      "nboot = 2000         # number of bootstrap iterations to use, not used if use_bootstrap = False\n",
      "\n",
      "if use_bootstrap:\n",
      "    cdf_bounds = ss.bootstrap_ecdf_bounds(labels, decision_values, nboot=nboot, ci_width=ci_width)\n",
      "else:\n",
      "    cdf_bounds = ss.dkw_bounds(labels, decision_values, ci_width=ci_width)"
     ],
     "language": "python",
     "metadata": {},
     "outputs": [],
     "prompt_number": 6
    },
    {
     "cell_type": "markdown",
     "metadata": {},
     "source": [
      "# 2. Compute contingency tables for each rank\n",
      "These tables are computed based on estimate of beta and the rank CDF of known positives. We will show the results for betahat and a the Bayesian credible interval on beta."
     ]
    },
    {
     "cell_type": "code",
     "collapsed": false,
     "input": [
      "# first, compute contingency tables based on the point estimate betahat\n",
      "# presorted = True is a computational shortcut\n",
      "# we can use this because we already sorted by decision values earlier\n",
      "tables_pu = ss.compute_contingency_tables(labels=sort_labels, decision_values=sort_dv,\n",
      "                                          reference_lb=cdf_bounds.lower,\n",
      "                                          reference_ub=cdf_bounds.upper,\n",
      "                                          beta=betahat, presorted=True)"
     ],
     "language": "python",
     "metadata": {},
     "outputs": [],
     "prompt_number": 7
    },
    {
     "cell_type": "markdown",
     "metadata": {},
     "source": [
      "We will also need the true contingency tables, and the contingency tables that arise if we treat the unlabeled set as negative for reference."
     ]
    },
    {
     "cell_type": "code",
     "collapsed": false,
     "input": [
      "# computes contingency tables based on sorted labels\n",
      "def compute_cts(sorted_labels):\n",
      "    num_pos = sum(sorted_labels)\n",
      "    num_neg = len(sorted_labels) - num_pos\n",
      "    cts = [ss.ContingencyTable(TP=0, FP=0, TN=num_neg, FN=num_pos)]\n",
      "    for label in sorted_labels:\n",
      "        last = cts[-1]\n",
      "        if label:            \n",
      "            cts.append(ss.ContingencyTable(TP=last.TP + 1,\n",
      "                                           FP=last.FP,\n",
      "                                           TN=last.TN,\n",
      "                                           FN=last.FN - 1))\n",
      "        else:\n",
      "            cts.append(ss.ContingencyTable(TP=last.TP,\n",
      "                                           FP=last.FP + 1,\n",
      "                                           TN=last.TN - 1,\n",
      "                                           FN=last.FN))\n",
      "    return cts[1:]\n",
      "\n",
      "# true contingency tables\n",
      "true_cts = compute_cts(sort_true_labels)\n",
      "\n",
      "# contingency tables when treating beta as 0\n",
      "neg_cts = compute_cts(map(lambda x: False if x is None else x, labels))"
     ],
     "language": "python",
     "metadata": {},
     "outputs": [],
     "prompt_number": 8
    },
    {
     "cell_type": "markdown",
     "metadata": {},
     "source": [
      "# 3. Compute the $F_1$ score at each cutoff rank based on contingency tables\n",
      "\n",
      "The $F_1$-score is the harmonic mean of precision and recall, and is defined as:\n",
      "\n",
      "$$F_1(r) = 2 \\frac{precision(r) \\times recall(r)}{precision(r) + recall(r)}.$$\n",
      "\n",
      "The F1-score can be used to calibrate a model, more specifically to decide on a hard threshold for a specific application. This is just one instance of a possible utility function, which we use to demonstrate that our proposed approach gives a close-to-optimal cutoff, while other approximations fail do to so.\n",
      "\n",
      "The optimum of the estimated bounds is not on the same ranks, but it is far closer than the optimum based on the approximation beta = 0. Additionally, the optimal F1 score is guaranteed to lie within the interval of F1 scores our proposed approach yields."
     ]
    },
    {
     "cell_type": "code",
     "collapsed": false,
     "input": [
      "# F1 per rank\n",
      "# function to compute F1 score from contingency tables\n",
      "def F1(ct):\n",
      "    precision = ss.precision(ct)\n",
      "    recall = ss.TPR(ct)\n",
      "    return 2.0 * precision * recall / max([precision + recall, 0.000001])\n",
      "\n",
      "# lists of all F1 scores per rank\n",
      "F1s_true = map(F1, true_cts)\n",
      "F1s_neg = map(F1, neg_cts)\n",
      "F1s_point_lo = map(F1, tables_pu.lower)\n",
      "F1s_point_up = map(F1, tables_pu.upper)\n",
      "\n",
      "# optimal cutoff ranks\n",
      "# function to return optimal the cutoff rank and associated F1 score\n",
      "optimal_cutoff_and_score = lambda F1s: max(enumerate(F1s), key=op.itemgetter(1))\n",
      "true_opt = optimal_cutoff_and_score(F1s_true)\n",
      "neg_opt = optimal_cutoff_and_score(F1s_neg)\n",
      "F1s_point_lo_opt = optimal_cutoff_and_score(F1s_point_lo)\n",
      "F1s_point_up_opt = optimal_cutoff_and_score(F1s_point_up)\n",
      "\n",
      "print('Optimal cutoffs \\trank\\tF1')\n",
      "print('-------------------------------------')\n",
      "print('true labels: \\t\\t%d\\t%1.3f' % true_opt)\n",
      "print('beta=0: \\t\\t%d\\t%1.3f' % neg_opt)\n",
      "print('lower bound point: \\t%d\\t%1.3f' % F1s_point_lo_opt)\n",
      "print('upper bound point: \\t%d\\t%1.3f' % F1s_point_up_opt)\n",
      "\n",
      "xs = list(xrange(len(labels)))\n",
      "fig = plt.figure(5)\n",
      "# utility functions (F1) of rank\n",
      "plt.plot(xs, F1s_true, 'k', linewidth=2)\n",
      "plt.plot(xs, F1s_neg, 'r')\n",
      "plt.plot(xs, F1s_point_lo, 'b--')\n",
      "plt.plot(xs, F1s_point_up, 'b-')\n",
      "# location of optima\n",
      "plt.plot([true_opt[0], true_opt[0]], [0, true_opt[1]], 'k', linewidth=2, alpha=0.7)\n",
      "plt.plot([neg_opt[0], neg_opt[0]], [0, neg_opt[1]], 'r', alpha=0.7)\n",
      "plt.plot([F1s_point_lo_opt[0], F1s_point_lo_opt[0]], [0, F1s_point_lo_opt[1]], 'b--', alpha=0.7)\n",
      "plt.plot([F1s_point_up_opt[0], F1s_point_up_opt[0]], [0, F1s_point_up_opt[1]], 'b-', alpha=0.7)\n",
      "# projection onto y-axis\n",
      "plt.plot([0, true_opt[0]], [true_opt[1], true_opt[1]], 'k', linewidth=2, alpha=0.7)\n",
      "plt.plot([0, neg_opt[0]], [neg_opt[1], neg_opt[1]], 'r', alpha=0.7)\n",
      "plt.plot([0, F1s_point_lo_opt[0]], [F1s_point_lo_opt[1], F1s_point_lo_opt[1]], 'b--', alpha=0.7)\n",
      "plt.plot([0, F1s_point_up_opt[0]], [F1s_point_up_opt[1], F1s_point_up_opt[1]], 'b-', alpha=0.7)\n",
      "plt.show()"
     ],
     "language": "python",
     "metadata": {},
     "outputs": [
      {
       "output_type": "stream",
       "stream": "stdout",
       "text": [
        "Optimal cutoffs \trank\tF1\n",
        "-------------------------------------\n",
        "true labels: \t\t1565\t0.634\n",
        "beta=0: \t\t1868\t0.186\n",
        "lower bound point: \t1430\t0.649\n",
        "upper bound point: \t1430\t0.791\n"
       ]
      },
      {
       "metadata": {},
       "output_type": "display_data",
       "png": "[encoded data removed]",
       "text": [
        "<matplotlib.figure.Figure at 0x7f503b059350>"
       ]
      }
     ],
     "prompt_number": 9
    }
   ],
   "metadata": {}
  }
 ]
}