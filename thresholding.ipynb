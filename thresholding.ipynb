{
 "metadata": {
  "name": "",
  "signature": "sha256:b45e32ce02e529676dcc32b98c8c63a01af8f45453622c7d6b9f154c80a1a4e6"
 },
 "nbformat": 3,
 "nbformat_minor": 0,
 "worksheets": [
  {
   "cells": [
    {
     "cell_type": "markdown",
     "metadata": {},
     "source": [
      "# Thresholding\n",
      "\n",
      "In this notebook we will show how to determine the an optimal cut-off rank by optimizing two common criteria:\n",
      "- Youden index = TPR - FPR, \"maximal distance from random separation\" (higher is better)\n",
      "- distance to (0, 1) in ROC space (Delta), \"how close are we to perfect separation\" (lower is better)\n",
      "\n",
      "We refer interested readers to http://www.ncbi.nlm.nih.gov/pmc/articles/PMC1444894/ for a detailed discussion of these criteria.\n",
      "\n",
      "In this notebook we will show that determining an appropriate threshold on scores is a difficult task in a PU learning context. However, the bounds we propose provide some guidance: the optimal criterion value will be within the bounds, however finding the optimal threshold score is more difficult. If the bounds on performance are wide, the feasible region in which the optimal score might be expands, making it difficult to find.\n",
      "\n",
      "In this notebook we will show that our approach tends to yield more reliable cutoffs than treating the unlabeled set as negative and then optimizing the Youden index or Delta.\n",
      "\n",
      "This notebook is intended to enable you to easily change the configuration of experiments, so feel free to make modifications where you see fit to see their effect."
     ]
    },
    {
     "cell_type": "code",
     "collapsed": false,
     "input": [
      "import random\n",
      "import operator as op\n",
      "import semisup_metrics as ss\n",
      "import numpy as np\n",
      "from matplotlib import pyplot as plt\n",
      "import pickle\n",
      "import csv\n",
      "import util\n",
      "%matplotlib inline"
     ],
     "language": "python",
     "metadata": {},
     "outputs": [],
     "prompt_number": 215
    },
    {
     "cell_type": "markdown",
     "metadata": {},
     "source": [
      "# Create or load data set\n",
      "Generate simulated data or load the results of an experiment in an existing paper. Feel free to configure the code below as you please."
     ]
    },
    {
     "cell_type": "code",
     "collapsed": false,
     "input": [
      "# fraction of positives/negatives that are known\n",
      "# known_neg_frac == 0 implies PU learning\n",
      "known_pos_frac = 0.1\n",
      "known_neg_frac = 0.0\n",
      "\n",
      "# in the manuscript we only used simulated data sets (see below)\n",
      "# but you can run a similar experiment on rankings resulting from\n",
      "# a real-world PU learning application as reported in the following paper\n",
      "# http://www.sciencedirect.com/science/article/pii/S0925231215001174\n",
      "use_paper_data = True\n",
      "dataset = 'covtype'\n",
      "#dataset = 'sensit'\n",
      "\n",
      "# generate a simulated data set (requires use_paper_data = False)\n",
      "# number of instances per class\n",
      "# the number of unlabeled instances depends on these settings + known_X_frac\n",
      "\n",
      "# if we use a lot of data, computation times are a little long\n",
      "# but the resulting estimates become excellent, which corroborates consistency\n",
      "num_pos = 20000\n",
      "num_neg = 100000 \n",
      "\n",
      "#num_pos = 5000\n",
      "#num_neg = 10000 \n",
      "\n",
      "\n",
      "# if you simulate a smaller data set you can see some effects better\n",
      "# but estimated bounds will be much wider\n",
      "# because the ECDF confidence interval becomes large\n",
      "#num_pos = 2000  \n",
      "#num_neg = 10000 \n",
      "distid = 2  # can be 1, 2 or 3, these correspond to certain curves in ROC space\n",
      "\n",
      "# generate rankings and label vectors and compute corresponding beta\n",
      "# beta is based on known_pos_frac, known_neg_frac and the number of pos and negs\n",
      "# labels is a list of {True, False, None}, where None indicates unlabeled\n",
      "# true_labels is a list of {True, False}\n",
      "if use_paper_data:\n",
      "    labels, true_labels, decision_values, beta = util.load_dataset(dataset, \n",
      "                                                                   known_pos_frac,\n",
      "                                                                   known_neg_frac)\n",
      "else:\n",
      "    labels, true_labels, decision_values, beta = util.simulate_data(distid, num_pos, num_neg,\n",
      "                                                                    known_pos_frac,\n",
      "                                                                    known_neg_frac)"
     ],
     "language": "python",
     "metadata": {},
     "outputs": [],
     "prompt_number": 216
    },
    {
     "cell_type": "markdown",
     "metadata": {},
     "source": [
      "## Data set characteristics"
     ]
    },
    {
     "cell_type": "markdown",
     "metadata": {},
     "source": [
      "Known parameters:"
     ]
    },
    {
     "cell_type": "code",
     "collapsed": false,
     "input": [
      "print('total number of instances: \\t %d' % len(labels))\n",
      "print('number of known positives: \\t %d' % len(filter(lambda x: x == True, labels)))\n",
      "print('number of known negatives: \\t %d' % len(filter(lambda x: x == False, labels)))\n",
      "print('number of unlabeled instances: \\t %d' % len(filter(lambda x: x == None, labels)))"
     ],
     "language": "python",
     "metadata": {},
     "outputs": [
      {
       "output_type": "stream",
       "stream": "stdout",
       "text": [
        "total number of instances: \t 40000\n",
        "number of known positives: \t 2000\n",
        "number of known negatives: \t 0\n",
        "number of unlabeled instances: \t 38000\n"
       ]
      }
     ],
     "prompt_number": 217
    },
    {
     "cell_type": "markdown",
     "metadata": {},
     "source": [
      "Unknown parameters:"
     ]
    },
    {
     "cell_type": "code",
     "collapsed": false,
     "input": [
      "print('number of latent positives: \\t %d' % len(filter(lambda x: x[0] == None and x[1] == True, zip(labels, true_labels))))\n",
      "print('number of latent negatives: \\t %d' % len(filter(lambda x: x[0] == None and x[1] == False, zip(labels, true_labels))))\n",
      "print('beta: \\t %1.4f' % beta)"
     ],
     "language": "python",
     "metadata": {},
     "outputs": [
      {
       "output_type": "stream",
       "stream": "stdout",
       "text": [
        "number of latent positives: \t 18000\n",
        "number of latent negatives: \t 20000"
       ]
      },
      {
       "output_type": "stream",
       "stream": "stdout",
       "text": [
        "\n",
        "beta: \t 0.4737\n"
       ]
      }
     ],
     "prompt_number": 218
    },
    {
     "cell_type": "markdown",
     "metadata": {},
     "source": [
      "# Estimate beta\n",
      "\n",
      "In this notebook we will not go into the issues surrounding beta (cfr. the performance-estimation notebook). We will compute the results on a point estimate of beta (feel free to add noise). For simplicity, we start with a correct estimate."
     ]
    },
    {
     "cell_type": "code",
     "collapsed": false,
     "input": [
      "betahat = beta\n",
      "\n",
      "print('true value of beta\\t%1.4f' % beta)\n",
      "print('point estimate of beta\\t%1.4f' % betahat)"
     ],
     "language": "python",
     "metadata": {},
     "outputs": [
      {
       "output_type": "stream",
       "stream": "stdout",
       "text": [
        "true value of beta\t0.4737\n",
        "point estimate of beta\t0.4737\n"
       ]
      }
     ],
     "prompt_number": 219
    },
    {
     "cell_type": "markdown",
     "metadata": {},
     "source": [
      "# 1. Compute cumulative rank distribution of known positives"
     ]
    },
    {
     "cell_type": "markdown",
     "metadata": {},
     "source": [
      "Next, we determine a confidence interval on the rank CDF of known positives. We can do this in several ways, our code provides a bootstrap approach and a method based on the Dvoretzky\u2013Kiefer\u2013Wolfowitz (DKW) inequality. Feel free to experiment."
     ]
    },
    {
     "cell_type": "code",
     "collapsed": false,
     "input": [
      "# sort the labels in descending order of corresponding decision values\n",
      "# subsequent calculations are more efficient on sorted data\n",
      "# otherwise it will be sorted several times in the library functions\n",
      "sort_labels, sort_dv, sort_true_labels = zip(*sorted(zip(labels, decision_values, true_labels),\n",
      "                                                     key=op.itemgetter(1), reverse=True))\n",
      "\n",
      "ci_width = 0.95      # width of the confidence band on ECDF to be used\n",
      "use_bootstrap = True # use bootstrap to compute confidence band\n",
      "nboot = 2000         # number of bootstrap iterations to use, not used if use_bootstrap = False\n",
      "\n",
      "if use_bootstrap:\n",
      "    cdf_bounds = ss.bootstrap_ecdf_bounds(labels, decision_values, nboot=nboot, ci_width=ci_width)\n",
      "else:\n",
      "    cdf_bounds = ss.dkw_bounds(labels, decision_values, ci_width=ci_width)"
     ],
     "language": "python",
     "metadata": {},
     "outputs": [],
     "prompt_number": 220
    },
    {
     "cell_type": "markdown",
     "metadata": {},
     "source": [
      "# 2. Compute contingency tables for each rank\n",
      "These tables are computed based on estimate of beta and the rank CDF of known positives. We will show the results for betahat and a the Bayesian credible interval on beta."
     ]
    },
    {
     "cell_type": "code",
     "collapsed": false,
     "input": [
      "# first, compute contingency tables based on the point estimate betahat\n",
      "# presorted = True is a computational shortcut\n",
      "# we can use this because we already sorted by decision values earlier\n",
      "tables_pu = ss.compute_contingency_tables(labels=sort_labels, decision_values=sort_dv,\n",
      "                                          reference_lb=cdf_bounds.lower,\n",
      "                                          reference_ub=cdf_bounds.upper,\n",
      "                                          beta=betahat, presorted=True)\n",
      "\n",
      "# we will also use the ecdf of known positives as a 'central' reference curve\n",
      "known_pos_ranks = [idx for idx, lab in enumerate(sort_labels) if lab]\n",
      "known_pos_ecdf = ss.zoh(*zip(*ss.compute_ecdf_curve(known_pos_ranks)))\n",
      "tables_central = ss.compute_contingency_tables(labels=sort_labels, decision_values=sort_dv,\n",
      "                                               reference_lb=known_pos_ecdf,\n",
      "                                               reference_ub=known_pos_ecdf,\n",
      "                                               beta=betahat, presorted=True)"
     ],
     "language": "python",
     "metadata": {},
     "outputs": [],
     "prompt_number": 221
    },
    {
     "cell_type": "markdown",
     "metadata": {},
     "source": [
      "We will also need the true contingency tables, and the contingency tables that arise if we treat the unlabeled set as negative for reference."
     ]
    },
    {
     "cell_type": "code",
     "collapsed": false,
     "input": [
      "# computes contingency tables based on sorted labels\n",
      "def compute_cts(sorted_labels):\n",
      "    num_pos = sum(sorted_labels)\n",
      "    num_neg = len(sorted_labels) - num_pos\n",
      "    cts = [ss.ContingencyTable(TP=0, FP=0, TN=num_neg, FN=num_pos)]\n",
      "    for label in sorted_labels:\n",
      "        last = cts[-1]\n",
      "        if label:            \n",
      "            cts.append(ss.ContingencyTable(TP=last.TP + 1,\n",
      "                                           FP=last.FP,\n",
      "                                           TN=last.TN,\n",
      "                                           FN=last.FN - 1))\n",
      "        else:\n",
      "            cts.append(ss.ContingencyTable(TP=last.TP,\n",
      "                                           FP=last.FP + 1,\n",
      "                                           TN=last.TN - 1,\n",
      "                                           FN=last.FN))\n",
      "    return cts[1:]\n",
      "\n",
      "# true contingency tables\n",
      "true_cts = compute_cts(sort_true_labels)\n",
      "\n",
      "# contingency tables when treating beta as 0\n",
      "neg_cts = compute_cts(map(lambda x: False if x is None else x, sort_labels))"
     ],
     "language": "python",
     "metadata": {},
     "outputs": [],
     "prompt_number": 222
    },
    {
     "cell_type": "markdown",
     "metadata": {},
     "source": [
      "# 3. Compute the optimality criteria (Youden index and Delta) at each cutoff rank based on contingency tables\n",
      "\n",
      "To decide on a hard threshold for a specific application we will optimize the Youden index and Delta. These are just two possible utility functions, which we use to demonstrate that our proposed approach gives a close-to-optimal cutoff on scores.\n",
      "\n",
      "The optimum of the estimated bounds is not on the same thresholds, but it is far closer than the optimum based on the approximation beta = 0. Additionally, the optimal values of the criterion that is optimized are guaranteed to lie within the interval of values yielded by our approach."
     ]
    },
    {
     "cell_type": "code",
     "collapsed": false,
     "input": [
      "# Youden index per rank\n",
      "# function to compute the Youden index score from contingency tables\n",
      "def Youden(ct):\n",
      "    tpr = ss.TPR(ct)\n",
      "    fpr = float(ct.FP) / (ct.FP + ct.TN)\n",
      "    return tpr - fpr\n",
      "\n",
      "# lists of all F1 scores per rank\n",
      "Ys_true = map(Youden, true_cts)\n",
      "Ys_neg = map(Youden, neg_cts)\n",
      "Ys_point_lo = map(Youden, tables_pu.lower)\n",
      "Ys_point_up = map(Youden, tables_pu.upper)\n",
      "Ys_central = map(Youden, tables_central.lower)\n",
      "\n",
      "# optimal cutoff ranks\n",
      "# function to return optimal the cutoff rank and associated F1 score\n",
      "optimal_cutoff_and_score = lambda Ys: max(enumerate(Ys), key=op.itemgetter(1))\n",
      "def optimal_cutoff_and_score(Ys):\n",
      "    cutoff_rank, score = max(enumerate(Ys), key=op.itemgetter(1))\n",
      "    return sort_dv[cutoff_rank], score\n",
      "\n",
      "true_opt = optimal_cutoff_and_score(Ys_true)\n",
      "neg_opt = optimal_cutoff_and_score(Ys_neg)\n",
      "Ys_point_lo_opt = optimal_cutoff_and_score(Ys_point_lo)\n",
      "Ys_point_up_opt = optimal_cutoff_and_score(Ys_point_up)\n",
      "Ys_central_opt = optimal_cutoff_and_score(Ys_central)\n",
      "\n",
      "print('Optimal cutoffs \\tscore\\tYouden index')\n",
      "print('-------------------------------------')\n",
      "print('true labels: \\t\\t%1.3f\\t%1.3f' % true_opt)\n",
      "print('beta=0: \\t\\t%1.3f\\t%1.3f' % neg_opt)\n",
      "print('lower bound point: \\t%1.3f\\t%1.3f' % Ys_point_lo_opt)\n",
      "print('upper bound point: \\t%1.3f\\t%1.3f' % Ys_point_up_opt)\n",
      "print('central estimate: \\t%1.3f\\t%1.3f' % Ys_central_opt)\n",
      "\n",
      "xs = map(lambda x: sort_dv[x], list(xrange(len(labels))))\n",
      "fig = plt.figure(5)\n",
      "# utility functions (F1) of rank\n",
      "plt.plot(xs, Ys_true, 'k', linewidth=2)\n",
      "plt.plot(xs, Ys_neg, 'r')\n",
      "plt.plot(xs, Ys_point_lo, 'b--')\n",
      "plt.plot(xs, Ys_point_up, 'b-')\n",
      "# location of optima\n",
      "plt.plot([true_opt[0], true_opt[0]], [0, true_opt[1]], 'k', linewidth=2, alpha=0.7)\n",
      "plt.plot([neg_opt[0], neg_opt[0]], [0, neg_opt[1]], 'r', alpha=0.7)\n",
      "plt.plot([Ys_point_lo_opt[0], Ys_point_lo_opt[0]], [0, Ys_point_lo_opt[1]], 'b--', alpha=0.7)\n",
      "plt.plot([Ys_point_up_opt[0], Ys_point_up_opt[0]], [0, Ys_point_up_opt[1]], 'b-', alpha=0.7)\n",
      "# projection onto y-axis\n",
      "plt.plot([0, true_opt[0]], [true_opt[1], true_opt[1]], 'k', linewidth=2, alpha=0.7)\n",
      "plt.plot([0, neg_opt[0]], [neg_opt[1], neg_opt[1]], 'r', alpha=0.7)\n",
      "plt.plot([0, Ys_point_lo_opt[0]], [Ys_point_lo_opt[1], Ys_point_lo_opt[1]], 'b--', alpha=0.7)\n",
      "plt.plot([0, Ys_point_up_opt[0]], [Ys_point_up_opt[1], Ys_point_up_opt[1]], 'b-', alpha=0.7)\n",
      "plt.xlabel('score threshold')\n",
      "plt.ylabel('Youden index')\n",
      "plt.title('Maximizing Youden index')\n",
      "plt.show()"
     ],
     "language": "python",
     "metadata": {},
     "outputs": [
      {
       "output_type": "stream",
       "stream": "stdout",
       "text": [
        "Optimal cutoffs \tscore\tYouden index\n",
        "-------------------------------------\n",
        "true labels: \t\t0.240\t0.375\n",
        "beta=0: \t\t0.260\t0.210\n",
        "lower bound point: \t0.260\t0.364\n",
        "upper bound point: \t0.260\t0.433\n",
        "central estimate: \t0.260\t0.399\n"
       ]
      },
      {
       "metadata": {},
       "output_type": "display_data",
       "png": "[encoded data removed]",
       "text": [
        "<matplotlib.figure.Figure at 0x7ff53601c910>"
       ]
      }
     ],
     "prompt_number": 226
    },
    {
     "cell_type": "code",
     "collapsed": false,
     "input": [
      "# Delta index per rank\n",
      "# function to compute the distance in ROC space to (0, 1) from contingency tables\n",
      "def Delta(ct):\n",
      "    tpr = ss.TPR(ct)\n",
      "    fpr = float(ct.FP) / (ct.FP + ct.TN)\n",
      "    return fpr ** 2 + (1 - tpr) ** 2\n",
      "\n",
      "# lists of all F1 scores per rank\n",
      "Ds_true = map(Delta, true_cts)\n",
      "Ds_neg = map(Delta, neg_cts)\n",
      "Ds_point_lo = map(Delta, tables_pu.lower)\n",
      "Ds_point_up = map(Delta, tables_pu.upper)\n",
      "Ds_central = map(Delta, tables_central.lower)\n",
      "\n",
      "# optimal cutoff ranks\n",
      "# function to return optimal the cutoff rank and associated F1 score\n",
      "optimal_cutoff_and_score = lambda Ds: min(enumerate(Ds), key=op.itemgetter(1))\n",
      "def optimal_cutoff_and_score(Ys):\n",
      "    cutoff_rank, score = min(enumerate(Ys), key=op.itemgetter(1))\n",
      "    return sort_dv[cutoff_rank], score\n",
      "\n",
      "true_opt = optimal_cutoff_and_score(Ds_true)\n",
      "neg_opt = optimal_cutoff_and_score(Ds_neg)\n",
      "Ds_point_lo_opt = optimal_cutoff_and_score(Ds_point_lo)\n",
      "Ds_point_up_opt = optimal_cutoff_and_score(Ds_point_up)\n",
      "Ds_central_opt = optimal_cutoff_and_score(Ds_central)\n",
      "\n",
      "print('Optimal cutoffs \\tscore\\tDelta')\n",
      "print('-------------------------------------')\n",
      "print('true labels: \\t\\t%1.3f\\t%1.3f' % true_opt)\n",
      "print('beta=0: \\t\\t%1.3f\\t%1.3f' % neg_opt)\n",
      "print('lower bound point: \\t%1.3f\\t%1.3f' % Ds_point_lo_opt)\n",
      "print('upper bound point: \\t%1.3f\\t%1.3f' % Ds_point_up_opt)\n",
      "print('central estimate: \\t%1.3f\\t%1.3f' % Ds_central_opt)\n",
      "\n",
      "#xs = list(xrange(len(labels)))\n",
      "xs = map(lambda x: sort_dv[x], list(xrange(len(labels))))\n",
      "\n",
      "fig = plt.figure(5)\n",
      "# utility functions (F1) of rank\n",
      "plt.plot(xs, Ds_true, 'k', linewidth=2)\n",
      "plt.plot(xs, Ds_neg, 'r')\n",
      "plt.plot(xs, Ds_point_lo, 'b--')\n",
      "plt.plot(xs, Ds_point_up, 'b-')\n",
      "# location of optima\n",
      "plt.plot([true_opt[0], true_opt[0]], [0, true_opt[1]], 'k', linewidth=2, alpha=0.7)\n",
      "plt.plot([neg_opt[0], neg_opt[0]], [0, neg_opt[1]], 'r', alpha=0.7)\n",
      "plt.plot([Ds_point_lo_opt[0], Ds_point_lo_opt[0]], [0, Ds_point_lo_opt[1]], 'b--', alpha=0.7)\n",
      "plt.plot([Ds_point_up_opt[0], Ds_point_up_opt[0]], [0, Ds_point_up_opt[1]], 'b-', alpha=0.7)\n",
      "# projection onto y-axis\n",
      "plt.plot([0, true_opt[0]], [true_opt[1], true_opt[1]], 'k', linewidth=2, alpha=0.7)\n",
      "plt.plot([0, neg_opt[0]], [neg_opt[1], neg_opt[1]], 'r', alpha=0.7)\n",
      "plt.plot([0, Ds_point_lo_opt[0]], [Ds_point_lo_opt[1], Ds_point_lo_opt[1]], 'b--', alpha=0.7)\n",
      "plt.plot([0, Ds_point_up_opt[0]], [Ds_point_up_opt[1], Ds_point_up_opt[1]], 'b-', alpha=0.7)\n",
      "plt.xlabel('score threshold')\n",
      "plt.ylabel('Delta')\n",
      "plt.title('Minimizing Delta')\n",
      "plt.show()"
     ],
     "language": "python",
     "metadata": {},
     "outputs": [
      {
       "output_type": "stream",
       "stream": "stdout",
       "text": [
        "Optimal cutoffs \tscore\tDelta\n",
        "-------------------------------------\n",
        "true labels: \t\t0.280\t0.201\n",
        "beta=0: \t\t0.340\t0.334\n",
        "lower bound point: \t0.260\t0.209\n",
        "upper bound point: \t0.260\t0.168\n",
        "central estimate: \t0.260\t0.187\n"
       ]
      },
      {
       "metadata": {},
       "output_type": "display_data",
       "png": "[encoded data removed]",
       "text": [
        "<matplotlib.figure.Figure at 0x7ff5303d29d0>"
       ]
      }
     ],
     "prompt_number": 227
    }
   ],
   "metadata": {}
  }
 ]
}